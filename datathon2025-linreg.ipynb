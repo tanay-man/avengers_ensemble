{
 "metadata": {
  "kernelspec": {
   "language": "python",
   "display_name": "Python 3",
   "name": "python3"
  },
  "language_info": {
   "name": "python",
   "version": "3.10.12",
   "mimetype": "text/x-python",
   "codemirror_mode": {
    "name": "ipython",
    "version": 3
   },
   "pygments_lexer": "ipython3",
   "nbconvert_exporter": "python",
   "file_extension": ".py"
  },
  "kaggle": {
   "accelerator": "none",
   "dataSources": [
    {
     "sourceId": 11259448,
     "sourceType": "datasetVersion",
     "datasetId": 7036244
    }
   ],
   "dockerImageVersionId": 30918,
   "isInternetEnabled": true,
   "language": "python",
   "sourceType": "notebook",
   "isGpuEnabled": false
  }
 },
 "nbformat_minor": 4,
 "nbformat": 4,
 "cells": [
  {
   "cell_type": "markdown",
   "metadata": {},
   "source": [
    "### Importing Required Libraries\n- pandas for data manipulation\n- numpy for numerical operations\n- scikit-learn for machine learning\n"
   ]
  },
  {
   "cell_type": "code",
   "source": "import pandas as pd\nimport numpy as np\nfrom sklearn.linear_model import LinearRegression\nfrom sklearn.model_selection import train_test_split\nfrom sklearn.metrics import mean_squared_error, mean_absolute_error",
   "metadata": {
    "_uuid": "8f2839f25d086af736a60e9eeb907d3b93b6e0e5",
    "_cell_guid": "b1076dfc-b9ad-4769-8c92-a6c4dae69d19",
    "trusted": true,
    "execution": {
     "iopub.status.busy": "2025-04-03T06:31:47.755218Z",
     "iopub.execute_input": "2025-04-03T06:31:47.755585Z",
     "iopub.status.idle": "2025-04-03T06:31:47.760220Z",
     "shell.execute_reply.started": "2025-04-03T06:31:47.755550Z",
     "shell.execute_reply": "2025-04-03T06:31:47.759108Z"
    }
   },
   "outputs": [],
   "execution_count": 2
  },
  {
   "cell_type": "markdown",
   "metadata": {},
   "source": [
    "### Loading Training Dataset\nLoading the training data for model development\n"
   ]
  },
  {
   "cell_type": "code",
   "source": "train_df = pd.read_csv(\"/kaggle/input/datathon2025/preprocessed_train.csv\")\ntrain_df",
   "metadata": {
    "trusted": true,
    "execution": {
     "iopub.status.busy": "2025-04-03T06:32:12.597172Z",
     "iopub.execute_input": "2025-04-03T06:32:12.597497Z",
     "iopub.status.idle": "2025-04-03T06:32:12.690543Z",
     "shell.execute_reply.started": "2025-04-03T06:32:12.597472Z",
     "shell.execute_reply": "2025-04-03T06:32:12.689486Z"
    }
   },
   "outputs": [
    {
     "execution_count": 3,
     "output_type": "execute_result",
     "data": {
      "text/plain": "      Unnamed: 0  MSSubClass  MSZoning  LotFrontage   LotArea  Street  \\\n0              0    0.352151         3    -0.216204 -0.395204       1   \n1              1   -5.199338         3     0.587964  0.079120       1   \n2              2    0.352151         3    -0.096753  0.630613       1   \n3              3    0.723343         3    -0.526417  0.030279       1   \n4              4    0.352151         3     0.761353  1.348041       1   \n...          ...         ...       ...          ...       ...     ...   \n1089        1455    0.352151         3    -0.344154 -0.585509       1   \n1090        1456   -5.199338         3     0.835558  1.107339       1   \n1091        1457    0.723343         3    -0.149853 -0.137177       1   \n1092        1458   -5.199338         3    -0.096753  0.118777       1   \n1093        1459   -5.199338         3     0.288750  0.190587       1   \n\n      LotShape  LandContour  Utilities  LotConfig  ...  EnclosedPorch  \\\n0            3            3          0          4  ...      -5.199338   \n1            3            3          0          2  ...      -5.199338   \n2            0            3          0          4  ...      -5.199338   \n3            0            3          0          0  ...       2.449513   \n4            0            3          0          2  ...      -5.199338   \n...        ...          ...        ...        ...  ...            ...   \n1089         3            3          0          4  ...      -5.199338   \n1090         3            3          0          4  ...      -5.199338   \n1091         3            3          0          4  ...      -5.199338   \n1092         3            3          0          4  ...       1.295363   \n1093         3            3          0          4  ...      -5.199338   \n\n      3SsnPorch  ScreenPorch  PoolArea   MiscVal    MoSold    YrSold  \\\n0     -5.199338    -5.199338 -5.199338 -5.199338 -1.562721  0.133379   \n1     -5.199338    -5.199338 -5.199338 -5.199338 -0.493553 -0.419741   \n2     -5.199338    -5.199338 -5.199338 -5.199338  0.924252  0.133379   \n3     -5.199338    -5.199338 -5.199338 -5.199338 -1.562721 -5.199338   \n4     -5.199338    -5.199338 -5.199338 -5.199338  5.199338  0.133379   \n...         ...          ...       ...       ...       ...       ...   \n1089  -5.199338    -5.199338 -5.199338 -5.199338  0.697507 -0.419741   \n1090  -5.199338    -5.199338 -5.199338 -5.199338 -1.562721  5.199338   \n1091  -5.199338    -5.199338 -5.199338  5.199338 -0.493553  5.199338   \n1092  -5.199338    -5.199338 -5.199338 -5.199338 -0.860725  5.199338   \n1093  -5.199338    -5.199338 -5.199338 -5.199338 -0.095492  0.133379   \n\n      SaleType  SaleCondition  SalePrice  \n0            8              4     208500  \n1            8              4     181500  \n2            8              4     223500  \n3            8              0     140000  \n4            8              4     250000  \n...        ...            ...        ...  \n1089         8              4     175000  \n1090         8              4     210000  \n1091         8              4     266500  \n1092         8              4     142125  \n1093         8              4     147500  \n\n[1094 rows x 75 columns]",
      "text/html": "<div>\n<style scoped>\n    .dataframe tbody tr th:only-of-type {\n        vertical-align: middle;\n    }\n\n    .dataframe tbody tr th {\n        vertical-align: top;\n    }\n\n    .dataframe thead th {\n        text-align: right;\n    }\n</style>\n<table border=\"1\" class=\"dataframe\">\n  <thead>\n    <tr style=\"text-align: right;\">\n      <th></th>\n      <th>Unnamed: 0</th>\n      <th>MSSubClass</th>\n      <th>MSZoning</th>\n      <th>LotFrontage</th>\n      <th>LotArea</th>\n      <th>Street</th>\n      <th>LotShape</th>\n      <th>LandContour</th>\n      <th>Utilities</th>\n      <th>LotConfig</th>\n      <th>...</th>\n      <th>EnclosedPorch</th>\n      <th>3SsnPorch</th>\n      <th>ScreenPorch</th>\n      <th>PoolArea</th>\n      <th>MiscVal</th>\n      <th>MoSold</th>\n      <th>YrSold</th>\n      <th>SaleType</th>\n      <th>SaleCondition</th>\n      <th>SalePrice</th>\n    </tr>\n  </thead>\n  <tbody>\n    <tr>\n      <th>0</th>\n      <td>0</td>\n      <td>0.352151</td>\n      <td>3</td>\n      <td>-0.216204</td>\n      <td>-0.395204</td>\n      <td>1</td>\n      <td>3</td>\n      <td>3</td>\n      <td>0</td>\n      <td>4</td>\n      <td>...</td>\n      <td>-5.199338</td>\n      <td>-5.199338</td>\n      <td>-5.199338</td>\n      <td>-5.199338</td>\n      <td>-5.199338</td>\n      <td>-1.562721</td>\n      <td>0.133379</td>\n      <td>8</td>\n      <td>4</td>\n      <td>208500</td>\n    </tr>\n    <tr>\n      <th>1</th>\n      <td>1</td>\n      <td>-5.199338</td>\n      <td>3</td>\n      <td>0.587964</td>\n      <td>0.079120</td>\n      <td>1</td>\n      <td>3</td>\n      <td>3</td>\n      <td>0</td>\n      <td>2</td>\n      <td>...</td>\n      <td>-5.199338</td>\n      <td>-5.199338</td>\n      <td>-5.199338</td>\n      <td>-5.199338</td>\n      <td>-5.199338</td>\n      <td>-0.493553</td>\n      <td>-0.419741</td>\n      <td>8</td>\n      <td>4</td>\n      <td>181500</td>\n    </tr>\n    <tr>\n      <th>2</th>\n      <td>2</td>\n      <td>0.352151</td>\n      <td>3</td>\n      <td>-0.096753</td>\n      <td>0.630613</td>\n      <td>1</td>\n      <td>0</td>\n      <td>3</td>\n      <td>0</td>\n      <td>4</td>\n      <td>...</td>\n      <td>-5.199338</td>\n      <td>-5.199338</td>\n      <td>-5.199338</td>\n      <td>-5.199338</td>\n      <td>-5.199338</td>\n      <td>0.924252</td>\n      <td>0.133379</td>\n      <td>8</td>\n      <td>4</td>\n      <td>223500</td>\n    </tr>\n    <tr>\n      <th>3</th>\n      <td>3</td>\n      <td>0.723343</td>\n      <td>3</td>\n      <td>-0.526417</td>\n      <td>0.030279</td>\n      <td>1</td>\n      <td>0</td>\n      <td>3</td>\n      <td>0</td>\n      <td>0</td>\n      <td>...</td>\n      <td>2.449513</td>\n      <td>-5.199338</td>\n      <td>-5.199338</td>\n      <td>-5.199338</td>\n      <td>-5.199338</td>\n      <td>-1.562721</td>\n      <td>-5.199338</td>\n      <td>8</td>\n      <td>0</td>\n      <td>140000</td>\n    </tr>\n    <tr>\n      <th>4</th>\n      <td>4</td>\n      <td>0.352151</td>\n      <td>3</td>\n      <td>0.761353</td>\n      <td>1.348041</td>\n      <td>1</td>\n      <td>0</td>\n      <td>3</td>\n      <td>0</td>\n      <td>2</td>\n      <td>...</td>\n      <td>-5.199338</td>\n      <td>-5.199338</td>\n      <td>-5.199338</td>\n      <td>-5.199338</td>\n      <td>-5.199338</td>\n      <td>5.199338</td>\n      <td>0.133379</td>\n      <td>8</td>\n      <td>4</td>\n      <td>250000</td>\n    </tr>\n    <tr>\n      <th>...</th>\n      <td>...</td>\n      <td>...</td>\n      <td>...</td>\n      <td>...</td>\n      <td>...</td>\n      <td>...</td>\n      <td>...</td>\n      <td>...</td>\n      <td>...</td>\n      <td>...</td>\n      <td>...</td>\n      <td>...</td>\n      <td>...</td>\n      <td>...</td>\n      <td>...</td>\n      <td>...</td>\n      <td>...</td>\n      <td>...</td>\n      <td>...</td>\n      <td>...</td>\n      <td>...</td>\n    </tr>\n    <tr>\n      <th>1089</th>\n      <td>1455</td>\n      <td>0.352151</td>\n      <td>3</td>\n      <td>-0.344154</td>\n      <td>-0.585509</td>\n      <td>1</td>\n      <td>3</td>\n      <td>3</td>\n      <td>0</td>\n      <td>4</td>\n      <td>...</td>\n      <td>-5.199338</td>\n      <td>-5.199338</td>\n      <td>-5.199338</td>\n      <td>-5.199338</td>\n      <td>-5.199338</td>\n      <td>0.697507</td>\n      <td>-0.419741</td>\n      <td>8</td>\n      <td>4</td>\n      <td>175000</td>\n    </tr>\n    <tr>\n      <th>1090</th>\n      <td>1456</td>\n      <td>-5.199338</td>\n      <td>3</td>\n      <td>0.835558</td>\n      <td>1.107339</td>\n      <td>1</td>\n      <td>3</td>\n      <td>3</td>\n      <td>0</td>\n      <td>4</td>\n      <td>...</td>\n      <td>-5.199338</td>\n      <td>-5.199338</td>\n      <td>-5.199338</td>\n      <td>-5.199338</td>\n      <td>-5.199338</td>\n      <td>-1.562721</td>\n      <td>5.199338</td>\n      <td>8</td>\n      <td>4</td>\n      <td>210000</td>\n    </tr>\n    <tr>\n      <th>1091</th>\n      <td>1457</td>\n      <td>0.723343</td>\n      <td>3</td>\n      <td>-0.149853</td>\n      <td>-0.137177</td>\n      <td>1</td>\n      <td>3</td>\n      <td>3</td>\n      <td>0</td>\n      <td>4</td>\n      <td>...</td>\n      <td>-5.199338</td>\n      <td>-5.199338</td>\n      <td>-5.199338</td>\n      <td>-5.199338</td>\n      <td>5.199338</td>\n      <td>-0.493553</td>\n      <td>5.199338</td>\n      <td>8</td>\n      <td>4</td>\n      <td>266500</td>\n    </tr>\n    <tr>\n      <th>1092</th>\n      <td>1458</td>\n      <td>-5.199338</td>\n      <td>3</td>\n      <td>-0.096753</td>\n      <td>0.118777</td>\n      <td>1</td>\n      <td>3</td>\n      <td>3</td>\n      <td>0</td>\n      <td>4</td>\n      <td>...</td>\n      <td>1.295363</td>\n      <td>-5.199338</td>\n      <td>-5.199338</td>\n      <td>-5.199338</td>\n      <td>-5.199338</td>\n      <td>-0.860725</td>\n      <td>5.199338</td>\n      <td>8</td>\n      <td>4</td>\n      <td>142125</td>\n    </tr>\n    <tr>\n      <th>1093</th>\n      <td>1459</td>\n      <td>-5.199338</td>\n      <td>3</td>\n      <td>0.288750</td>\n      <td>0.190587</td>\n      <td>1</td>\n      <td>3</td>\n      <td>3</td>\n      <td>0</td>\n      <td>4</td>\n      <td>...</td>\n      <td>-5.199338</td>\n      <td>-5.199338</td>\n      <td>-5.199338</td>\n      <td>-5.199338</td>\n      <td>-5.199338</td>\n      <td>-0.095492</td>\n      <td>0.133379</td>\n      <td>8</td>\n      <td>4</td>\n      <td>147500</td>\n    </tr>\n  </tbody>\n</table>\n<p>1094 rows \u00d7 75 columns</p>\n</div>"
     },
     "metadata": {}
    }
   ],
   "execution_count": 3
  },
  {
   "cell_type": "markdown",
   "metadata": {},
   "source": [
    "### Neural Network Model\nTraining a neural network model\n"
   ]
  },
  {
   "cell_type": "code",
   "source": "train_df.drop(columns=[\"Unnamed: 0\"], inplace=True)",
   "metadata": {
    "trusted": true,
    "execution": {
     "iopub.status.busy": "2025-04-03T06:32:33.508599Z",
     "iopub.execute_input": "2025-04-03T06:32:33.509035Z",
     "iopub.status.idle": "2025-04-03T06:32:33.515150Z",
     "shell.execute_reply.started": "2025-04-03T06:32:33.509003Z",
     "shell.execute_reply": "2025-04-03T06:32:33.513991Z"
    }
   },
   "outputs": [],
   "execution_count": 4
  },
  {
   "cell_type": "markdown",
   "metadata": {},
   "source": [
    "### Model Training\nTraining the machine learning model\n"
   ]
  },
  {
   "cell_type": "code",
   "source": "y = train_df[\"SalePrice\"]\nX = train_df.drop(columns=[\"SalePrice\"])",
   "metadata": {
    "trusted": true,
    "execution": {
     "iopub.status.busy": "2025-04-03T06:32:48.590992Z",
     "iopub.execute_input": "2025-04-03T06:32:48.591346Z",
     "iopub.status.idle": "2025-04-03T06:32:48.597123Z",
     "shell.execute_reply.started": "2025-04-03T06:32:48.591318Z",
     "shell.execute_reply": "2025-04-03T06:32:48.596179Z"
    }
   },
   "outputs": [],
   "execution_count": 5
  },
  {
   "cell_type": "markdown",
   "metadata": {},
   "source": [
    "### Model Training\nTraining the machine learning model\n"
   ]
  },
  {
   "cell_type": "code",
   "source": "X_train, X_test, y_train, y_test = train_test_split(X, y, test_size=0.2, random_state=42)",
   "metadata": {
    "trusted": true,
    "execution": {
     "iopub.status.busy": "2025-04-03T06:33:02.118272Z",
     "iopub.execute_input": "2025-04-03T06:33:02.118661Z",
     "iopub.status.idle": "2025-04-03T06:33:02.126456Z",
     "shell.execute_reply.started": "2025-04-03T06:33:02.118627Z",
     "shell.execute_reply": "2025-04-03T06:33:02.125539Z"
    }
   },
   "outputs": [],
   "execution_count": 6
  },
  {
   "cell_type": "markdown",
   "metadata": {},
   "source": [
    "### Linear Regression Model\nTraining a linear regression model\n"
   ]
  },
  {
   "cell_type": "code",
   "source": "model = LinearRegression()\nmodel.fit(X_train, y_train)",
   "metadata": {
    "trusted": true,
    "execution": {
     "iopub.status.busy": "2025-04-03T06:33:34.770949Z",
     "iopub.execute_input": "2025-04-03T06:33:34.771382Z",
     "iopub.status.idle": "2025-04-03T06:33:34.867404Z",
     "shell.execute_reply.started": "2025-04-03T06:33:34.771352Z",
     "shell.execute_reply": "2025-04-03T06:33:34.866362Z"
    }
   },
   "outputs": [
    {
     "execution_count": 7,
     "output_type": "execute_result",
     "data": {
      "text/plain": "LinearRegression()",
      "text/html": "<style>#sk-container-id-1 {color: black;background-color: white;}#sk-container-id-1 pre{padding: 0;}#sk-container-id-1 div.sk-toggleable {background-color: white;}#sk-container-id-1 label.sk-toggleable__label {cursor: pointer;display: block;width: 100%;margin-bottom: 0;padding: 0.3em;box-sizing: border-box;text-align: center;}#sk-container-id-1 label.sk-toggleable__label-arrow:before {content: \"\u25b8\";float: left;margin-right: 0.25em;color: #696969;}#sk-container-id-1 label.sk-toggleable__label-arrow:hover:before {color: black;}#sk-container-id-1 div.sk-estimator:hover label.sk-toggleable__label-arrow:before {color: black;}#sk-container-id-1 div.sk-toggleable__content {max-height: 0;max-width: 0;overflow: hidden;text-align: left;background-color: #f0f8ff;}#sk-container-id-1 div.sk-toggleable__content pre {margin: 0.2em;color: black;border-radius: 0.25em;background-color: #f0f8ff;}#sk-container-id-1 input.sk-toggleable__control:checked~div.sk-toggleable__content {max-height: 200px;max-width: 100%;overflow: auto;}#sk-container-id-1 input.sk-toggleable__control:checked~label.sk-toggleable__label-arrow:before {content: \"\u25be\";}#sk-container-id-1 div.sk-estimator input.sk-toggleable__control:checked~label.sk-toggleable__label {background-color: #d4ebff;}#sk-container-id-1 div.sk-label input.sk-toggleable__control:checked~label.sk-toggleable__label {background-color: #d4ebff;}#sk-container-id-1 input.sk-hidden--visually {border: 0;clip: rect(1px 1px 1px 1px);clip: rect(1px, 1px, 1px, 1px);height: 1px;margin: -1px;overflow: hidden;padding: 0;position: absolute;width: 1px;}#sk-container-id-1 div.sk-estimator {font-family: monospace;background-color: #f0f8ff;border: 1px dotted black;border-radius: 0.25em;box-sizing: border-box;margin-bottom: 0.5em;}#sk-container-id-1 div.sk-estimator:hover {background-color: #d4ebff;}#sk-container-id-1 div.sk-parallel-item::after {content: \"\";width: 100%;border-bottom: 1px solid gray;flex-grow: 1;}#sk-container-id-1 div.sk-label:hover label.sk-toggleable__label {background-color: #d4ebff;}#sk-container-id-1 div.sk-serial::before {content: \"\";position: absolute;border-left: 1px solid gray;box-sizing: border-box;top: 0;bottom: 0;left: 50%;z-index: 0;}#sk-container-id-1 div.sk-serial {display: flex;flex-direction: column;align-items: center;background-color: white;padding-right: 0.2em;padding-left: 0.2em;position: relative;}#sk-container-id-1 div.sk-item {position: relative;z-index: 1;}#sk-container-id-1 div.sk-parallel {display: flex;align-items: stretch;justify-content: center;background-color: white;position: relative;}#sk-container-id-1 div.sk-item::before, #sk-container-id-1 div.sk-parallel-item::before {content: \"\";position: absolute;border-left: 1px solid gray;box-sizing: border-box;top: 0;bottom: 0;left: 50%;z-index: -1;}#sk-container-id-1 div.sk-parallel-item {display: flex;flex-direction: column;z-index: 1;position: relative;background-color: white;}#sk-container-id-1 div.sk-parallel-item:first-child::after {align-self: flex-end;width: 50%;}#sk-container-id-1 div.sk-parallel-item:last-child::after {align-self: flex-start;width: 50%;}#sk-container-id-1 div.sk-parallel-item:only-child::after {width: 0;}#sk-container-id-1 div.sk-dashed-wrapped {border: 1px dashed gray;margin: 0 0.4em 0.5em 0.4em;box-sizing: border-box;padding-bottom: 0.4em;background-color: white;}#sk-container-id-1 div.sk-label label {font-family: monospace;font-weight: bold;display: inline-block;line-height: 1.2em;}#sk-container-id-1 div.sk-label-container {text-align: center;}#sk-container-id-1 div.sk-container {/* jupyter's `normalize.less` sets `[hidden] { display: none; }` but bootstrap.min.css set `[hidden] { display: none !important; }` so we also need the `!important` here to be able to override the default hidden behavior on the sphinx rendered scikit-learn.org. See: https://github.com/scikit-learn/scikit-learn/issues/21755 */display: inline-block !important;position: relative;}#sk-container-id-1 div.sk-text-repr-fallback {display: none;}</style><div id=\"sk-container-id-1\" class=\"sk-top-container\"><div class=\"sk-text-repr-fallback\"><pre>LinearRegression()</pre><b>In a Jupyter environment, please rerun this cell to show the HTML representation or trust the notebook. <br />On GitHub, the HTML representation is unable to render, please try loading this page with nbviewer.org.</b></div><div class=\"sk-container\" hidden><div class=\"sk-item\"><div class=\"sk-estimator sk-toggleable\"><input class=\"sk-toggleable__control sk-hidden--visually\" id=\"sk-estimator-id-1\" type=\"checkbox\" checked><label for=\"sk-estimator-id-1\" class=\"sk-toggleable__label sk-toggleable__label-arrow\">LinearRegression</label><div class=\"sk-toggleable__content\"><pre>LinearRegression()</pre></div></div></div></div></div>"
     },
     "metadata": {}
    }
   ],
   "execution_count": 7
  },
  {
   "cell_type": "markdown",
   "metadata": {},
   "source": [
    "### Model Training\nTraining the machine learning model\n"
   ]
  },
  {
   "cell_type": "code",
   "source": "y_pred = model.predict(X_test)",
   "metadata": {
    "trusted": true,
    "execution": {
     "iopub.status.busy": "2025-04-03T06:33:35.241704Z",
     "iopub.execute_input": "2025-04-03T06:33:35.242156Z",
     "iopub.status.idle": "2025-04-03T06:33:35.251889Z",
     "shell.execute_reply.started": "2025-04-03T06:33:35.242123Z",
     "shell.execute_reply": "2025-04-03T06:33:35.250865Z"
    }
   },
   "outputs": [],
   "execution_count": 8
  },
  {
   "cell_type": "markdown",
   "metadata": {},
   "source": [
    "### Code Execution\nExecuting code for data analysis or model development\n"
   ]
  },
  {
   "cell_type": "code",
   "source": "mse = mean_squared_error(y_test, y_pred)\nrmse = np.sqrt(mse)\nmae = mean_absolute_error(y_test, y_pred)\n\nprint(f'Mean Squared Error (MSE): {mse:.4f}')\nprint(f'Root Mean Squared Error (RMSE): {rmse:.4f}')\nprint(f'Mean Absolute Error (MAE): {mae:.4f}')",
   "metadata": {
    "trusted": true,
    "execution": {
     "iopub.status.busy": "2025-04-03T06:34:43.390190Z",
     "iopub.execute_input": "2025-04-03T06:34:43.390669Z",
     "iopub.status.idle": "2025-04-03T06:34:43.400667Z",
     "shell.execute_reply.started": "2025-04-03T06:34:43.390627Z",
     "shell.execute_reply": "2025-04-03T06:34:43.399612Z"
    }
   },
   "outputs": [
    {
     "name": "stdout",
     "text": "Mean Squared Error (MSE): 1097043360.1843\nRoot Mean Squared Error (RMSE): 33121.6449\nMean Absolute Error (MAE): 22555.6503\n",
     "output_type": "stream"
    }
   ],
   "execution_count": 10
  },
  {
   "cell_type": "markdown",
   "metadata": {},
   "source": [
    "### Code Execution\nExecuting code for data analysis or model development\n"
   ]
  },
  {
   "cell_type": "code",
   "source": "",
   "metadata": {
    "trusted": true
   },
   "outputs": [],
   "execution_count": null
  }
 ]
}